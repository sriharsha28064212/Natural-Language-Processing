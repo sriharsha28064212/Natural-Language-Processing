{
 "cells": [
  {
   "cell_type": "code",
   "execution_count": 1,
   "id": "c177ffc8",
   "metadata": {},
   "outputs": [],
   "source": [
    "from urllib import request"
   ]
  },
  {
   "cell_type": "code",
   "execution_count": 2,
   "id": "d6da3942",
   "metadata": {},
   "outputs": [],
   "source": [
    "url =\"https://www.gutenberg.org/cache/epub/69969/pg69969.txt\""
   ]
  },
  {
   "cell_type": "code",
   "execution_count": 6,
   "id": "37e4926c",
   "metadata": {},
   "outputs": [],
   "source": [
    "response = request.urlopen(url)"
   ]
  },
  {
   "cell_type": "code",
   "execution_count": 4,
   "id": "7fbd2883",
   "metadata": {},
   "outputs": [],
   "source": [
    "#converting bytes to string \n",
    "raw=response.read().decode('utf8')"
   ]
  },
  {
   "cell_type": "code",
   "execution_count": 7,
   "id": "a8ffe318",
   "metadata": {},
   "outputs": [],
   "source": [
    "#Note: We can also use the BeautifulSoup library to scrape all the necessary string values from the website\n",
    "import nltk \n",
    "from nltk.tokenize import word_tokenize\n",
    "tokens=word_tokenize(raw)"
   ]
  },
  {
   "cell_type": "code",
   "execution_count": 8,
   "id": "fcc36edb",
   "metadata": {},
   "outputs": [
    {
     "name": "stdout",
     "output_type": "stream",
     "text": [
      "['\\ufeffThe', 'Project', 'Gutenberg', 'eBook', 'of', 'The', 'golden', 'whales', 'of', 'California', 'and', 'other', 'rhymes', 'in', 'the', 'American', 'language', ',', 'by', 'Vachel']\n"
     ]
    }
   ],
   "source": [
    "print(tokens[:20])"
   ]
  },
  {
   "cell_type": "code",
   "execution_count": 9,
   "id": "975f4af1",
   "metadata": {},
   "outputs": [],
   "source": [
    "#use regex to cleanup (preprocessing) ex:\"\\ufeff\""
   ]
  },
  {
   "cell_type": "code",
   "execution_count": 14,
   "id": "d7ad0985",
   "metadata": {},
   "outputs": [
    {
     "data": {
      "text/plain": [
       "'happi'"
      ]
     },
     "execution_count": 14,
     "metadata": {},
     "output_type": "execute_result"
    }
   ],
   "source": [
    "from nltk.stem import PorterStemmer\n",
    "porter = PorterStemmer()\n",
    "porter.stem('happiness')"
   ]
  },
  {
   "cell_type": "code",
   "execution_count": 13,
   "id": "ffbe6b6e",
   "metadata": {},
   "outputs": [
    {
     "data": {
      "text/plain": [
       "'happy'"
      ]
     },
     "execution_count": 13,
     "metadata": {},
     "output_type": "execute_result"
    }
   ],
   "source": [
    "from nltk.stem import LancasterStemmer\n",
    "porter = LancasterStemmer()\n",
    "porter.stem('happiness')"
   ]
  },
  {
   "cell_type": "code",
   "execution_count": 18,
   "id": "320dcfe6",
   "metadata": {},
   "outputs": [
    {
     "data": {
      "text/plain": [
       "'S'"
      ]
     },
     "execution_count": 18,
     "metadata": {},
     "output_type": "execute_result"
    }
   ],
   "source": [
    "from nltk.stem import RegexpStemmer\n",
    "porter = RegexpStemmer('ing')\n",
    "porter.stem('Singing')"
   ]
  },
  {
   "cell_type": "code",
   "execution_count": 24,
   "id": "959f2c95",
   "metadata": {},
   "outputs": [
    {
     "data": {
      "text/plain": [
       "'grandot'"
      ]
     },
     "execution_count": 24,
     "metadata": {},
     "output_type": "execute_result"
    }
   ],
   "source": [
    "from nltk.stem import SnowballStemmer\n",
    "porter = SnowballStemmer('spanish')\n",
    "porter.stem('grandote')"
   ]
  },
  {
   "cell_type": "code",
   "execution_count": 25,
   "id": "2f91fa6f",
   "metadata": {},
   "outputs": [],
   "source": [
    "# Task: use porterstemmer to stem a para"
   ]
  },
  {
   "cell_type": "code",
   "execution_count": 27,
   "id": "3e52c2c5",
   "metadata": {},
   "outputs": [
    {
     "data": {
      "text/plain": [
       "['thi',\n",
       " 'ebook',\n",
       " 'is',\n",
       " 'for',\n",
       " 'the',\n",
       " 'use',\n",
       " 'of',\n",
       " 'anyon',\n",
       " 'anywher',\n",
       " 'in',\n",
       " 'the',\n",
       " 'unit',\n",
       " 'state',\n",
       " 'and',\n",
       " 'most',\n",
       " 'other',\n",
       " 'part',\n",
       " 'of',\n",
       " 'the',\n",
       " 'world',\n",
       " 'at',\n",
       " 'no',\n",
       " 'cost',\n",
       " 'and',\n",
       " 'with',\n",
       " 'almost',\n",
       " 'no',\n",
       " 'restrict',\n",
       " 'whatsoev']"
      ]
     },
     "execution_count": 27,
     "metadata": {},
     "output_type": "execute_result"
    }
   ],
   "source": [
    "porter = PorterStemmer()\n",
    "text= \"This eBook is for the use of anyone anywhere in the United States and most other parts of the world at no cost and with almost no restrictions whatsoever\"\n",
    "text=[porter.stem(token) for token in text.split(\" \")]\n",
    "text"
   ]
  },
  {
   "cell_type": "code",
   "execution_count": 28,
   "id": "b0502769",
   "metadata": {},
   "outputs": [
    {
     "name": "stdout",
     "output_type": "stream",
     "text": [
      "thi ebook is for the use of anyon anywher in the unit state and most other part of the world at no cost and with almost no restrict whatsoev\n"
     ]
    }
   ],
   "source": [
    "print(\" \".join(text))"
   ]
  },
  {
   "cell_type": "code",
   "execution_count": null,
   "id": "5fa375ef",
   "metadata": {},
   "outputs": [],
   "source": []
  }
 ],
 "metadata": {
  "kernelspec": {
   "display_name": "Python 3",
   "language": "python",
   "name": "python3"
  },
  "language_info": {
   "codemirror_mode": {
    "name": "ipython",
    "version": 3
   },
   "file_extension": ".py",
   "mimetype": "text/x-python",
   "name": "python",
   "nbconvert_exporter": "python",
   "pygments_lexer": "ipython3",
   "version": "3.8.8"
  }
 },
 "nbformat": 4,
 "nbformat_minor": 5
}
